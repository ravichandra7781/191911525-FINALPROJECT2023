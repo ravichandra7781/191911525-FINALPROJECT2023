{
  "nbformat": 4,
  "nbformat_minor": 0,
  "metadata": {
    "colab": {
      "provenance": [],
      "include_colab_link": true
    },
    "kernelspec": {
      "name": "python3",
      "display_name": "Python 3"
    },
    "language_info": {
      "name": "python"
    }
  },
  "cells": [
    {
      "cell_type": "markdown",
      "metadata": {
        "id": "view-in-github",
        "colab_type": "text"
      },
      "source": [
        "<a href=\"https://colab.research.google.com/github/ravichandra7781/191911525-FINALPROJECT2023/blob/main/PROJECTCODE.ipynb\" target=\"_parent\"><img src=\"https://colab.research.google.com/assets/colab-badge.svg\" alt=\"Open In Colab\"/></a>"
      ]
    },
    {
      "cell_type": "code",
      "execution_count": null,
      "metadata": {
        "id": "mx_bxrdDuQ8y"
      },
      "outputs": [],
      "source": [
        "import pandas as pd\n",
        "import numpy as np\n",
        "import matplotlib.pyplot as plt\n",
        "from sklearn.model_selection import train_test_split\n",
        "from math import sqrt\n",
        "from google.colab import drive\n",
        "import sklearn\n",
        "from sklearn.linear_model import LogisticRegressionCV\n",
        "from sklearn.metrics import accuracy_score, precision_score, recall_score, f1_score\n",
        "from sklearn.preprocessing import MinMaxScaler\n",
        "from imblearn.combine import SMOTETomek\n",
        "import seaborn as sns\n",
        "from collections import Counter\n",
        "import warnings\n",
        "from numpy import mean\n",
        "from numpy import std\n",
        "from sklearn.datasets import make_classification\n",
        "from sklearn.model_selection import cross_val_score\n",
        "from sklearn.model_selection import RepeatedStratifiedKFold\n",
        "from sklearn.ensemble import RandomForestClassifier\n",
        "from sklearn.metrics import classification_report\n",
        "from sklearn.metrics import confusion_matrix\n",
        "from sklearn.model_selection import validation_curve\n",
        "from numpy import arange\n",
        "from sklearn.metrics import roc_auc_score\n",
        "from sklearn.metrics import roc_curve\n",
        "from sklearn.model_selection import GridSearchCV\n",
        "from sklearn.model_selection import RandomizedSearchCV\n",
        "from sklearn.metrics import log_loss\n",
        "from sklearn.pipeline import make_pipeline\n",
        "from sklearn.ensemble import AdaBoostClassifier\n",
        "from sklearn.neural_network import MLPClassifier"
      ]
    },
    {
      "cell_type": "code",
      "source": [
        "warnings.filterwarnings('ignore')\n",
        "url = \"https://raw.githubusercontent.com/harmansingh25/ML_Project_2021/main/Stroke_analysis1%20-%20Stroke_analysis1.csv\"\n",
        "df = pd.read_csv(url)\n",
        "df"
      ],
      "metadata": {
        "id": "K6UR02v3u2z2",
        "colab": {
          "base_uri": "https://localhost:8080/",
          "height": 424
        },
        "outputId": "52351718-0380-4e72-e5f3-cd4352bee371"
      },
      "execution_count": null,
      "outputs": [
        {
          "output_type": "execute_result",
          "data": {
            "text/plain": [
              "      Unnamed: 0         pid  age  gender  nhiss  mrs  systolic  distolic  \\\n",
              "0              1  PID2829938   61    Male      0   -1       124        80   \n",
              "1              2  PID1833441   75    Male      0   -1       123        82   \n",
              "2              3  PID8745027   73    Male      0   -1       121        83   \n",
              "3              4  PID4568062   63  Female      0   -1       120        85   \n",
              "4              5  PID3855176   23    Male      0   -1       126        81   \n",
              "...          ...         ...  ...     ...    ...  ...       ...       ...   \n",
              "4793        4794    PID11726   67    Male     13    6       180        83   \n",
              "4794        4795    PID11727   67  Female     20    3       180        88   \n",
              "4795        4796    PID11728   65    Male      6    4       126       111   \n",
              "4796        4797    PID11729   64    Male     19    5       126        82   \n",
              "4797        4798    PID11730   65    Male      5    1       169       115   \n",
              "\n",
              "      glucose  paralysis  smoking  bmi  cholestrol  tos  risk  \n",
              "0          77          0        0   22         200   -1     0  \n",
              "1          79          0        0   20         208   -1     0  \n",
              "2          83          0        0   20         208   -1     0  \n",
              "3         105          0        0   20         210   -1     0  \n",
              "4          89          0        0   22         201   -1     0  \n",
              "...       ...        ...      ...  ...         ...  ...   ...  \n",
              "4793      198          1        2   39         219    3     2  \n",
              "4794      188          0        2   22         187    1     2  \n",
              "4795      227          0        3   23         233    3     2  \n",
              "4796      262          2        2   28         244    1     2  \n",
              "4797      263          0        3   27         231    3     2  \n",
              "\n",
              "[4798 rows x 15 columns]"
            ],
            "text/html": [
              "\n",
              "  <div id=\"df-1b65c943-b49d-4139-aa5d-64c8b67396c1\">\n",
              "    <div class=\"colab-df-container\">\n",
              "      <div>\n",
              "<style scoped>\n",
              "    .dataframe tbody tr th:only-of-type {\n",
              "        vertical-align: middle;\n",
              "    }\n",
              "\n",
              "    .dataframe tbody tr th {\n",
              "        vertical-align: top;\n",
              "    }\n",
              "\n",
              "    .dataframe thead th {\n",
              "        text-align: right;\n",
              "    }\n",
              "</style>\n",
              "<table border=\"1\" class=\"dataframe\">\n",
              "  <thead>\n",
              "    <tr style=\"text-align: right;\">\n",
              "      <th></th>\n",
              "      <th>Unnamed: 0</th>\n",
              "      <th>pid</th>\n",
              "      <th>age</th>\n",
              "      <th>gender</th>\n",
              "      <th>nhiss</th>\n",
              "      <th>mrs</th>\n",
              "      <th>systolic</th>\n",
              "      <th>distolic</th>\n",
              "      <th>glucose</th>\n",
              "      <th>paralysis</th>\n",
              "      <th>smoking</th>\n",
              "      <th>bmi</th>\n",
              "      <th>cholestrol</th>\n",
              "      <th>tos</th>\n",
              "      <th>risk</th>\n",
              "    </tr>\n",
              "  </thead>\n",
              "  <tbody>\n",
              "    <tr>\n",
              "      <th>0</th>\n",
              "      <td>1</td>\n",
              "      <td>PID2829938</td>\n",
              "      <td>61</td>\n",
              "      <td>Male</td>\n",
              "      <td>0</td>\n",
              "      <td>-1</td>\n",
              "      <td>124</td>\n",
              "      <td>80</td>\n",
              "      <td>77</td>\n",
              "      <td>0</td>\n",
              "      <td>0</td>\n",
              "      <td>22</td>\n",
              "      <td>200</td>\n",
              "      <td>-1</td>\n",
              "      <td>0</td>\n",
              "    </tr>\n",
              "    <tr>\n",
              "      <th>1</th>\n",
              "      <td>2</td>\n",
              "      <td>PID1833441</td>\n",
              "      <td>75</td>\n",
              "      <td>Male</td>\n",
              "      <td>0</td>\n",
              "      <td>-1</td>\n",
              "      <td>123</td>\n",
              "      <td>82</td>\n",
              "      <td>79</td>\n",
              "      <td>0</td>\n",
              "      <td>0</td>\n",
              "      <td>20</td>\n",
              "      <td>208</td>\n",
              "      <td>-1</td>\n",
              "      <td>0</td>\n",
              "    </tr>\n",
              "    <tr>\n",
              "      <th>2</th>\n",
              "      <td>3</td>\n",
              "      <td>PID8745027</td>\n",
              "      <td>73</td>\n",
              "      <td>Male</td>\n",
              "      <td>0</td>\n",
              "      <td>-1</td>\n",
              "      <td>121</td>\n",
              "      <td>83</td>\n",
              "      <td>83</td>\n",
              "      <td>0</td>\n",
              "      <td>0</td>\n",
              "      <td>20</td>\n",
              "      <td>208</td>\n",
              "      <td>-1</td>\n",
              "      <td>0</td>\n",
              "    </tr>\n",
              "    <tr>\n",
              "      <th>3</th>\n",
              "      <td>4</td>\n",
              "      <td>PID4568062</td>\n",
              "      <td>63</td>\n",
              "      <td>Female</td>\n",
              "      <td>0</td>\n",
              "      <td>-1</td>\n",
              "      <td>120</td>\n",
              "      <td>85</td>\n",
              "      <td>105</td>\n",
              "      <td>0</td>\n",
              "      <td>0</td>\n",
              "      <td>20</td>\n",
              "      <td>210</td>\n",
              "      <td>-1</td>\n",
              "      <td>0</td>\n",
              "    </tr>\n",
              "    <tr>\n",
              "      <th>4</th>\n",
              "      <td>5</td>\n",
              "      <td>PID3855176</td>\n",
              "      <td>23</td>\n",
              "      <td>Male</td>\n",
              "      <td>0</td>\n",
              "      <td>-1</td>\n",
              "      <td>126</td>\n",
              "      <td>81</td>\n",
              "      <td>89</td>\n",
              "      <td>0</td>\n",
              "      <td>0</td>\n",
              "      <td>22</td>\n",
              "      <td>201</td>\n",
              "      <td>-1</td>\n",
              "      <td>0</td>\n",
              "    </tr>\n",
              "    <tr>\n",
              "      <th>...</th>\n",
              "      <td>...</td>\n",
              "      <td>...</td>\n",
              "      <td>...</td>\n",
              "      <td>...</td>\n",
              "      <td>...</td>\n",
              "      <td>...</td>\n",
              "      <td>...</td>\n",
              "      <td>...</td>\n",
              "      <td>...</td>\n",
              "      <td>...</td>\n",
              "      <td>...</td>\n",
              "      <td>...</td>\n",
              "      <td>...</td>\n",
              "      <td>...</td>\n",
              "      <td>...</td>\n",
              "    </tr>\n",
              "    <tr>\n",
              "      <th>4793</th>\n",
              "      <td>4794</td>\n",
              "      <td>PID11726</td>\n",
              "      <td>67</td>\n",
              "      <td>Male</td>\n",
              "      <td>13</td>\n",
              "      <td>6</td>\n",
              "      <td>180</td>\n",
              "      <td>83</td>\n",
              "      <td>198</td>\n",
              "      <td>1</td>\n",
              "      <td>2</td>\n",
              "      <td>39</td>\n",
              "      <td>219</td>\n",
              "      <td>3</td>\n",
              "      <td>2</td>\n",
              "    </tr>\n",
              "    <tr>\n",
              "      <th>4794</th>\n",
              "      <td>4795</td>\n",
              "      <td>PID11727</td>\n",
              "      <td>67</td>\n",
              "      <td>Female</td>\n",
              "      <td>20</td>\n",
              "      <td>3</td>\n",
              "      <td>180</td>\n",
              "      <td>88</td>\n",
              "      <td>188</td>\n",
              "      <td>0</td>\n",
              "      <td>2</td>\n",
              "      <td>22</td>\n",
              "      <td>187</td>\n",
              "      <td>1</td>\n",
              "      <td>2</td>\n",
              "    </tr>\n",
              "    <tr>\n",
              "      <th>4795</th>\n",
              "      <td>4796</td>\n",
              "      <td>PID11728</td>\n",
              "      <td>65</td>\n",
              "      <td>Male</td>\n",
              "      <td>6</td>\n",
              "      <td>4</td>\n",
              "      <td>126</td>\n",
              "      <td>111</td>\n",
              "      <td>227</td>\n",
              "      <td>0</td>\n",
              "      <td>3</td>\n",
              "      <td>23</td>\n",
              "      <td>233</td>\n",
              "      <td>3</td>\n",
              "      <td>2</td>\n",
              "    </tr>\n",
              "    <tr>\n",
              "      <th>4796</th>\n",
              "      <td>4797</td>\n",
              "      <td>PID11729</td>\n",
              "      <td>64</td>\n",
              "      <td>Male</td>\n",
              "      <td>19</td>\n",
              "      <td>5</td>\n",
              "      <td>126</td>\n",
              "      <td>82</td>\n",
              "      <td>262</td>\n",
              "      <td>2</td>\n",
              "      <td>2</td>\n",
              "      <td>28</td>\n",
              "      <td>244</td>\n",
              "      <td>1</td>\n",
              "      <td>2</td>\n",
              "    </tr>\n",
              "    <tr>\n",
              "      <th>4797</th>\n",
              "      <td>4798</td>\n",
              "      <td>PID11730</td>\n",
              "      <td>65</td>\n",
              "      <td>Male</td>\n",
              "      <td>5</td>\n",
              "      <td>1</td>\n",
              "      <td>169</td>\n",
              "      <td>115</td>\n",
              "      <td>263</td>\n",
              "      <td>0</td>\n",
              "      <td>3</td>\n",
              "      <td>27</td>\n",
              "      <td>231</td>\n",
              "      <td>3</td>\n",
              "      <td>2</td>\n",
              "    </tr>\n",
              "  </tbody>\n",
              "</table>\n",
              "<p>4798 rows × 15 columns</p>\n",
              "</div>\n",
              "      <button class=\"colab-df-convert\" onclick=\"convertToInteractive('df-1b65c943-b49d-4139-aa5d-64c8b67396c1')\"\n",
              "              title=\"Convert this dataframe to an interactive table.\"\n",
              "              style=\"display:none;\">\n",
              "        \n",
              "  <svg xmlns=\"http://www.w3.org/2000/svg\" height=\"24px\"viewBox=\"0 0 24 24\"\n",
              "       width=\"24px\">\n",
              "    <path d=\"M0 0h24v24H0V0z\" fill=\"none\"/>\n",
              "    <path d=\"M18.56 5.44l.94 2.06.94-2.06 2.06-.94-2.06-.94-.94-2.06-.94 2.06-2.06.94zm-11 1L8.5 8.5l.94-2.06 2.06-.94-2.06-.94L8.5 2.5l-.94 2.06-2.06.94zm10 10l.94 2.06.94-2.06 2.06-.94-2.06-.94-.94-2.06-.94 2.06-2.06.94z\"/><path d=\"M17.41 7.96l-1.37-1.37c-.4-.4-.92-.59-1.43-.59-.52 0-1.04.2-1.43.59L10.3 9.45l-7.72 7.72c-.78.78-.78 2.05 0 2.83L4 21.41c.39.39.9.59 1.41.59.51 0 1.02-.2 1.41-.59l7.78-7.78 2.81-2.81c.8-.78.8-2.07 0-2.86zM5.41 20L4 18.59l7.72-7.72 1.47 1.35L5.41 20z\"/>\n",
              "  </svg>\n",
              "      </button>\n",
              "      \n",
              "  <style>\n",
              "    .colab-df-container {\n",
              "      display:flex;\n",
              "      flex-wrap:wrap;\n",
              "      gap: 12px;\n",
              "    }\n",
              "\n",
              "    .colab-df-convert {\n",
              "      background-color: #E8F0FE;\n",
              "      border: none;\n",
              "      border-radius: 50%;\n",
              "      cursor: pointer;\n",
              "      display: none;\n",
              "      fill: #1967D2;\n",
              "      height: 32px;\n",
              "      padding: 0 0 0 0;\n",
              "      width: 32px;\n",
              "    }\n",
              "\n",
              "    .colab-df-convert:hover {\n",
              "      background-color: #E2EBFA;\n",
              "      box-shadow: 0px 1px 2px rgba(60, 64, 67, 0.3), 0px 1px 3px 1px rgba(60, 64, 67, 0.15);\n",
              "      fill: #174EA6;\n",
              "    }\n",
              "\n",
              "    [theme=dark] .colab-df-convert {\n",
              "      background-color: #3B4455;\n",
              "      fill: #D2E3FC;\n",
              "    }\n",
              "\n",
              "    [theme=dark] .colab-df-convert:hover {\n",
              "      background-color: #434B5C;\n",
              "      box-shadow: 0px 1px 3px 1px rgba(0, 0, 0, 0.15);\n",
              "      filter: drop-shadow(0px 1px 2px rgba(0, 0, 0, 0.3));\n",
              "      fill: #FFFFFF;\n",
              "    }\n",
              "  </style>\n",
              "\n",
              "      <script>\n",
              "        const buttonEl =\n",
              "          document.querySelector('#df-1b65c943-b49d-4139-aa5d-64c8b67396c1 button.colab-df-convert');\n",
              "        buttonEl.style.display =\n",
              "          google.colab.kernel.accessAllowed ? 'block' : 'none';\n",
              "\n",
              "        async function convertToInteractive(key) {\n",
              "          const element = document.querySelector('#df-1b65c943-b49d-4139-aa5d-64c8b67396c1');\n",
              "          const dataTable =\n",
              "            await google.colab.kernel.invokeFunction('convertToInteractive',\n",
              "                                                     [key], {});\n",
              "          if (!dataTable) return;\n",
              "\n",
              "          const docLinkHtml = 'Like what you see? Visit the ' +\n",
              "            '<a target=\"_blank\" href=https://colab.research.google.com/notebooks/data_table.ipynb>data table notebook</a>'\n",
              "            + ' to learn more about interactive tables.';\n",
              "          element.innerHTML = '';\n",
              "          dataTable['output_type'] = 'display_data';\n",
              "          await google.colab.output.renderOutput(dataTable, element);\n",
              "          const docLink = document.createElement('div');\n",
              "          docLink.innerHTML = docLinkHtml;\n",
              "          element.appendChild(docLink);\n",
              "        }\n",
              "      </script>\n",
              "    </div>\n",
              "  </div>\n",
              "  "
            ]
          },
          "metadata": {},
          "execution_count": 90
        }
      ]
    },
    {
      "cell_type": "code",
      "source": [
        "import pandas as pd\n",
        "\n",
        "# assume `df` is your DataFrame\n",
        "column_names = df.columns.tolist()\n",
        "print(column_names)"
      ],
      "metadata": {
        "id": "Vmt7-nSKwUur",
        "colab": {
          "base_uri": "https://localhost:8080/"
        },
        "outputId": "e3ffaaa3-f675-4562-8da1-59abbefb8527"
      },
      "execution_count": null,
      "outputs": [
        {
          "output_type": "stream",
          "name": "stdout",
          "text": [
            "['Unnamed: 0', 'pid', 'age', 'gender', 'nhiss', 'mrs', 'systolic', 'distolic', 'glucose', 'paralysis', 'smoking', 'bmi', 'cholestrol', 'tos', 'risk']\n"
          ]
        }
      ]
    },
    {
      "cell_type": "code",
      "source": [
        "#removing the unwanted columns in dataset\n",
        "df = df.drop(\"Unnamed: 0\", axis = 1)\n",
        "df = df.drop(\"pid\", axis = 1)\n",
        "df = df.rename(columns={\"nhiss\":\"NIHSS_Score\", \"mrs\":\"mRS\", \"distolic\":\"diastolic\"})"
      ],
      "metadata": {
        "id": "HhIhOnBLu6Yk"
      },
      "execution_count": null,
      "outputs": []
    },
    {
      "cell_type": "code",
      "source": [
        "#printing the data after removing unwanted columns\n",
        "df"
      ],
      "metadata": {
        "id": "p4yiNkyTxHVd",
        "colab": {
          "base_uri": "https://localhost:8080/",
          "height": 424
        },
        "outputId": "3f190505-874b-4374-e885-8e2d9b967354"
      },
      "execution_count": null,
      "outputs": [
        {
          "output_type": "execute_result",
          "data": {
            "text/plain": [
              "      age  gender  NIHSS_Score  mRS  systolic  diastolic  glucose  paralysis  \\\n",
              "0      61    Male            0   -1       124         80       77          0   \n",
              "1      75    Male            0   -1       123         82       79          0   \n",
              "2      73    Male            0   -1       121         83       83          0   \n",
              "3      63  Female            0   -1       120         85      105          0   \n",
              "4      23    Male            0   -1       126         81       89          0   \n",
              "...   ...     ...          ...  ...       ...        ...      ...        ...   \n",
              "4793   67    Male           13    6       180         83      198          1   \n",
              "4794   67  Female           20    3       180         88      188          0   \n",
              "4795   65    Male            6    4       126        111      227          0   \n",
              "4796   64    Male           19    5       126         82      262          2   \n",
              "4797   65    Male            5    1       169        115      263          0   \n",
              "\n",
              "      smoking  bmi  cholestrol  tos  risk  \n",
              "0           0   22         200   -1     0  \n",
              "1           0   20         208   -1     0  \n",
              "2           0   20         208   -1     0  \n",
              "3           0   20         210   -1     0  \n",
              "4           0   22         201   -1     0  \n",
              "...       ...  ...         ...  ...   ...  \n",
              "4793        2   39         219    3     2  \n",
              "4794        2   22         187    1     2  \n",
              "4795        3   23         233    3     2  \n",
              "4796        2   28         244    1     2  \n",
              "4797        3   27         231    3     2  \n",
              "\n",
              "[4798 rows x 13 columns]"
            ],
            "text/html": [
              "\n",
              "  <div id=\"df-88234ef5-d855-4b98-8fbe-e95a3b1fd68b\">\n",
              "    <div class=\"colab-df-container\">\n",
              "      <div>\n",
              "<style scoped>\n",
              "    .dataframe tbody tr th:only-of-type {\n",
              "        vertical-align: middle;\n",
              "    }\n",
              "\n",
              "    .dataframe tbody tr th {\n",
              "        vertical-align: top;\n",
              "    }\n",
              "\n",
              "    .dataframe thead th {\n",
              "        text-align: right;\n",
              "    }\n",
              "</style>\n",
              "<table border=\"1\" class=\"dataframe\">\n",
              "  <thead>\n",
              "    <tr style=\"text-align: right;\">\n",
              "      <th></th>\n",
              "      <th>age</th>\n",
              "      <th>gender</th>\n",
              "      <th>NIHSS_Score</th>\n",
              "      <th>mRS</th>\n",
              "      <th>systolic</th>\n",
              "      <th>diastolic</th>\n",
              "      <th>glucose</th>\n",
              "      <th>paralysis</th>\n",
              "      <th>smoking</th>\n",
              "      <th>bmi</th>\n",
              "      <th>cholestrol</th>\n",
              "      <th>tos</th>\n",
              "      <th>risk</th>\n",
              "    </tr>\n",
              "  </thead>\n",
              "  <tbody>\n",
              "    <tr>\n",
              "      <th>0</th>\n",
              "      <td>61</td>\n",
              "      <td>Male</td>\n",
              "      <td>0</td>\n",
              "      <td>-1</td>\n",
              "      <td>124</td>\n",
              "      <td>80</td>\n",
              "      <td>77</td>\n",
              "      <td>0</td>\n",
              "      <td>0</td>\n",
              "      <td>22</td>\n",
              "      <td>200</td>\n",
              "      <td>-1</td>\n",
              "      <td>0</td>\n",
              "    </tr>\n",
              "    <tr>\n",
              "      <th>1</th>\n",
              "      <td>75</td>\n",
              "      <td>Male</td>\n",
              "      <td>0</td>\n",
              "      <td>-1</td>\n",
              "      <td>123</td>\n",
              "      <td>82</td>\n",
              "      <td>79</td>\n",
              "      <td>0</td>\n",
              "      <td>0</td>\n",
              "      <td>20</td>\n",
              "      <td>208</td>\n",
              "      <td>-1</td>\n",
              "      <td>0</td>\n",
              "    </tr>\n",
              "    <tr>\n",
              "      <th>2</th>\n",
              "      <td>73</td>\n",
              "      <td>Male</td>\n",
              "      <td>0</td>\n",
              "      <td>-1</td>\n",
              "      <td>121</td>\n",
              "      <td>83</td>\n",
              "      <td>83</td>\n",
              "      <td>0</td>\n",
              "      <td>0</td>\n",
              "      <td>20</td>\n",
              "      <td>208</td>\n",
              "      <td>-1</td>\n",
              "      <td>0</td>\n",
              "    </tr>\n",
              "    <tr>\n",
              "      <th>3</th>\n",
              "      <td>63</td>\n",
              "      <td>Female</td>\n",
              "      <td>0</td>\n",
              "      <td>-1</td>\n",
              "      <td>120</td>\n",
              "      <td>85</td>\n",
              "      <td>105</td>\n",
              "      <td>0</td>\n",
              "      <td>0</td>\n",
              "      <td>20</td>\n",
              "      <td>210</td>\n",
              "      <td>-1</td>\n",
              "      <td>0</td>\n",
              "    </tr>\n",
              "    <tr>\n",
              "      <th>4</th>\n",
              "      <td>23</td>\n",
              "      <td>Male</td>\n",
              "      <td>0</td>\n",
              "      <td>-1</td>\n",
              "      <td>126</td>\n",
              "      <td>81</td>\n",
              "      <td>89</td>\n",
              "      <td>0</td>\n",
              "      <td>0</td>\n",
              "      <td>22</td>\n",
              "      <td>201</td>\n",
              "      <td>-1</td>\n",
              "      <td>0</td>\n",
              "    </tr>\n",
              "    <tr>\n",
              "      <th>...</th>\n",
              "      <td>...</td>\n",
              "      <td>...</td>\n",
              "      <td>...</td>\n",
              "      <td>...</td>\n",
              "      <td>...</td>\n",
              "      <td>...</td>\n",
              "      <td>...</td>\n",
              "      <td>...</td>\n",
              "      <td>...</td>\n",
              "      <td>...</td>\n",
              "      <td>...</td>\n",
              "      <td>...</td>\n",
              "      <td>...</td>\n",
              "    </tr>\n",
              "    <tr>\n",
              "      <th>4793</th>\n",
              "      <td>67</td>\n",
              "      <td>Male</td>\n",
              "      <td>13</td>\n",
              "      <td>6</td>\n",
              "      <td>180</td>\n",
              "      <td>83</td>\n",
              "      <td>198</td>\n",
              "      <td>1</td>\n",
              "      <td>2</td>\n",
              "      <td>39</td>\n",
              "      <td>219</td>\n",
              "      <td>3</td>\n",
              "      <td>2</td>\n",
              "    </tr>\n",
              "    <tr>\n",
              "      <th>4794</th>\n",
              "      <td>67</td>\n",
              "      <td>Female</td>\n",
              "      <td>20</td>\n",
              "      <td>3</td>\n",
              "      <td>180</td>\n",
              "      <td>88</td>\n",
              "      <td>188</td>\n",
              "      <td>0</td>\n",
              "      <td>2</td>\n",
              "      <td>22</td>\n",
              "      <td>187</td>\n",
              "      <td>1</td>\n",
              "      <td>2</td>\n",
              "    </tr>\n",
              "    <tr>\n",
              "      <th>4795</th>\n",
              "      <td>65</td>\n",
              "      <td>Male</td>\n",
              "      <td>6</td>\n",
              "      <td>4</td>\n",
              "      <td>126</td>\n",
              "      <td>111</td>\n",
              "      <td>227</td>\n",
              "      <td>0</td>\n",
              "      <td>3</td>\n",
              "      <td>23</td>\n",
              "      <td>233</td>\n",
              "      <td>3</td>\n",
              "      <td>2</td>\n",
              "    </tr>\n",
              "    <tr>\n",
              "      <th>4796</th>\n",
              "      <td>64</td>\n",
              "      <td>Male</td>\n",
              "      <td>19</td>\n",
              "      <td>5</td>\n",
              "      <td>126</td>\n",
              "      <td>82</td>\n",
              "      <td>262</td>\n",
              "      <td>2</td>\n",
              "      <td>2</td>\n",
              "      <td>28</td>\n",
              "      <td>244</td>\n",
              "      <td>1</td>\n",
              "      <td>2</td>\n",
              "    </tr>\n",
              "    <tr>\n",
              "      <th>4797</th>\n",
              "      <td>65</td>\n",
              "      <td>Male</td>\n",
              "      <td>5</td>\n",
              "      <td>1</td>\n",
              "      <td>169</td>\n",
              "      <td>115</td>\n",
              "      <td>263</td>\n",
              "      <td>0</td>\n",
              "      <td>3</td>\n",
              "      <td>27</td>\n",
              "      <td>231</td>\n",
              "      <td>3</td>\n",
              "      <td>2</td>\n",
              "    </tr>\n",
              "  </tbody>\n",
              "</table>\n",
              "<p>4798 rows × 13 columns</p>\n",
              "</div>\n",
              "      <button class=\"colab-df-convert\" onclick=\"convertToInteractive('df-88234ef5-d855-4b98-8fbe-e95a3b1fd68b')\"\n",
              "              title=\"Convert this dataframe to an interactive table.\"\n",
              "              style=\"display:none;\">\n",
              "        \n",
              "  <svg xmlns=\"http://www.w3.org/2000/svg\" height=\"24px\"viewBox=\"0 0 24 24\"\n",
              "       width=\"24px\">\n",
              "    <path d=\"M0 0h24v24H0V0z\" fill=\"none\"/>\n",
              "    <path d=\"M18.56 5.44l.94 2.06.94-2.06 2.06-.94-2.06-.94-.94-2.06-.94 2.06-2.06.94zm-11 1L8.5 8.5l.94-2.06 2.06-.94-2.06-.94L8.5 2.5l-.94 2.06-2.06.94zm10 10l.94 2.06.94-2.06 2.06-.94-2.06-.94-.94-2.06-.94 2.06-2.06.94z\"/><path d=\"M17.41 7.96l-1.37-1.37c-.4-.4-.92-.59-1.43-.59-.52 0-1.04.2-1.43.59L10.3 9.45l-7.72 7.72c-.78.78-.78 2.05 0 2.83L4 21.41c.39.39.9.59 1.41.59.51 0 1.02-.2 1.41-.59l7.78-7.78 2.81-2.81c.8-.78.8-2.07 0-2.86zM5.41 20L4 18.59l7.72-7.72 1.47 1.35L5.41 20z\"/>\n",
              "  </svg>\n",
              "      </button>\n",
              "      \n",
              "  <style>\n",
              "    .colab-df-container {\n",
              "      display:flex;\n",
              "      flex-wrap:wrap;\n",
              "      gap: 12px;\n",
              "    }\n",
              "\n",
              "    .colab-df-convert {\n",
              "      background-color: #E8F0FE;\n",
              "      border: none;\n",
              "      border-radius: 50%;\n",
              "      cursor: pointer;\n",
              "      display: none;\n",
              "      fill: #1967D2;\n",
              "      height: 32px;\n",
              "      padding: 0 0 0 0;\n",
              "      width: 32px;\n",
              "    }\n",
              "\n",
              "    .colab-df-convert:hover {\n",
              "      background-color: #E2EBFA;\n",
              "      box-shadow: 0px 1px 2px rgba(60, 64, 67, 0.3), 0px 1px 3px 1px rgba(60, 64, 67, 0.15);\n",
              "      fill: #174EA6;\n",
              "    }\n",
              "\n",
              "    [theme=dark] .colab-df-convert {\n",
              "      background-color: #3B4455;\n",
              "      fill: #D2E3FC;\n",
              "    }\n",
              "\n",
              "    [theme=dark] .colab-df-convert:hover {\n",
              "      background-color: #434B5C;\n",
              "      box-shadow: 0px 1px 3px 1px rgba(0, 0, 0, 0.15);\n",
              "      filter: drop-shadow(0px 1px 2px rgba(0, 0, 0, 0.3));\n",
              "      fill: #FFFFFF;\n",
              "    }\n",
              "  </style>\n",
              "\n",
              "      <script>\n",
              "        const buttonEl =\n",
              "          document.querySelector('#df-88234ef5-d855-4b98-8fbe-e95a3b1fd68b button.colab-df-convert');\n",
              "        buttonEl.style.display =\n",
              "          google.colab.kernel.accessAllowed ? 'block' : 'none';\n",
              "\n",
              "        async function convertToInteractive(key) {\n",
              "          const element = document.querySelector('#df-88234ef5-d855-4b98-8fbe-e95a3b1fd68b');\n",
              "          const dataTable =\n",
              "            await google.colab.kernel.invokeFunction('convertToInteractive',\n",
              "                                                     [key], {});\n",
              "          if (!dataTable) return;\n",
              "\n",
              "          const docLinkHtml = 'Like what you see? Visit the ' +\n",
              "            '<a target=\"_blank\" href=https://colab.research.google.com/notebooks/data_table.ipynb>data table notebook</a>'\n",
              "            + ' to learn more about interactive tables.';\n",
              "          element.innerHTML = '';\n",
              "          dataTable['output_type'] = 'display_data';\n",
              "          await google.colab.output.renderOutput(dataTable, element);\n",
              "          const docLink = document.createElement('div');\n",
              "          docLink.innerHTML = docLinkHtml;\n",
              "          element.appendChild(docLink);\n",
              "        }\n",
              "      </script>\n",
              "    </div>\n",
              "  </div>\n",
              "  "
            ]
          },
          "metadata": {},
          "execution_count": 93
        }
      ]
    },
    {
      "cell_type": "code",
      "source": [
        "#printing the shape of dataset\n",
        "df.shape"
      ],
      "metadata": {
        "id": "LzwmFkKmxa87",
        "colab": {
          "base_uri": "https://localhost:8080/"
        },
        "outputId": "f1fdb7f5-5ac4-4ec9-a4a2-0f749c1c3fc5"
      },
      "execution_count": null,
      "outputs": [
        {
          "output_type": "execute_result",
          "data": {
            "text/plain": [
              "(4798, 13)"
            ]
          },
          "metadata": {},
          "execution_count": 94
        }
      ]
    },
    {
      "cell_type": "code",
      "source": [
        "#describing the dataset\n",
        "df.describe()"
      ],
      "metadata": {
        "id": "OTQrjfgWyHrq",
        "colab": {
          "base_uri": "https://localhost:8080/",
          "height": 300
        },
        "outputId": "99f4e3af-4af9-46d3-9fa3-73a77d85123b"
      },
      "execution_count": null,
      "outputs": [
        {
          "output_type": "execute_result",
          "data": {
            "text/plain": [
              "               age  NIHSS_Score          mRS     systolic    diastolic  \\\n",
              "count  4798.000000  4798.000000  4798.000000  4798.000000  4798.000000   \n",
              "mean     47.116090    18.124427     3.674239   153.091705   103.655065   \n",
              "std      23.690637    11.274141     1.872073    24.927477    18.344127   \n",
              "min       1.000000     0.000000    -1.000000   100.000000    59.000000   \n",
              "25%      28.000000    10.000000     2.000000   132.000000    91.000000   \n",
              "50%      49.000000    18.000000     4.000000   154.000000   104.000000   \n",
              "75%      66.000000    25.000000     5.000000   175.000000   118.000000   \n",
              "max      90.000000    45.000000     6.000000   195.000000   135.000000   \n",
              "\n",
              "           glucose    paralysis      smoking          bmi   cholestrol  \\\n",
              "count  4798.000000  4798.000000  4798.000000  4798.000000  4798.000000   \n",
              "mean    225.846186     1.362026     0.884744    33.739475   217.531055   \n",
              "std      56.119071     1.106405     0.903432     6.231687    20.268753   \n",
              "min      70.000000     0.000000     0.000000    18.000000   160.000000   \n",
              "25%     203.000000     0.000000     0.000000    29.000000   205.000000   \n",
              "50%     239.000000     1.000000     1.000000    34.000000   219.000000   \n",
              "75%     268.000000     2.000000     2.000000    38.000000   234.000000   \n",
              "max     295.000000     3.000000     3.000000    45.000000   253.000000   \n",
              "\n",
              "               tos         risk  \n",
              "count  4798.000000  4798.000000  \n",
              "mean      1.988745     1.879325  \n",
              "std       0.973207     0.486878  \n",
              "min      -1.000000     0.000000  \n",
              "25%       1.000000     2.000000  \n",
              "50%       2.000000     2.000000  \n",
              "75%       3.000000     2.000000  \n",
              "max       3.000000     3.000000  "
            ],
            "text/html": [
              "\n",
              "  <div id=\"df-7dc67fea-828c-4395-85da-159ecc4d5d9b\">\n",
              "    <div class=\"colab-df-container\">\n",
              "      <div>\n",
              "<style scoped>\n",
              "    .dataframe tbody tr th:only-of-type {\n",
              "        vertical-align: middle;\n",
              "    }\n",
              "\n",
              "    .dataframe tbody tr th {\n",
              "        vertical-align: top;\n",
              "    }\n",
              "\n",
              "    .dataframe thead th {\n",
              "        text-align: right;\n",
              "    }\n",
              "</style>\n",
              "<table border=\"1\" class=\"dataframe\">\n",
              "  <thead>\n",
              "    <tr style=\"text-align: right;\">\n",
              "      <th></th>\n",
              "      <th>age</th>\n",
              "      <th>NIHSS_Score</th>\n",
              "      <th>mRS</th>\n",
              "      <th>systolic</th>\n",
              "      <th>diastolic</th>\n",
              "      <th>glucose</th>\n",
              "      <th>paralysis</th>\n",
              "      <th>smoking</th>\n",
              "      <th>bmi</th>\n",
              "      <th>cholestrol</th>\n",
              "      <th>tos</th>\n",
              "      <th>risk</th>\n",
              "    </tr>\n",
              "  </thead>\n",
              "  <tbody>\n",
              "    <tr>\n",
              "      <th>count</th>\n",
              "      <td>4798.000000</td>\n",
              "      <td>4798.000000</td>\n",
              "      <td>4798.000000</td>\n",
              "      <td>4798.000000</td>\n",
              "      <td>4798.000000</td>\n",
              "      <td>4798.000000</td>\n",
              "      <td>4798.000000</td>\n",
              "      <td>4798.000000</td>\n",
              "      <td>4798.000000</td>\n",
              "      <td>4798.000000</td>\n",
              "      <td>4798.000000</td>\n",
              "      <td>4798.000000</td>\n",
              "    </tr>\n",
              "    <tr>\n",
              "      <th>mean</th>\n",
              "      <td>47.116090</td>\n",
              "      <td>18.124427</td>\n",
              "      <td>3.674239</td>\n",
              "      <td>153.091705</td>\n",
              "      <td>103.655065</td>\n",
              "      <td>225.846186</td>\n",
              "      <td>1.362026</td>\n",
              "      <td>0.884744</td>\n",
              "      <td>33.739475</td>\n",
              "      <td>217.531055</td>\n",
              "      <td>1.988745</td>\n",
              "      <td>1.879325</td>\n",
              "    </tr>\n",
              "    <tr>\n",
              "      <th>std</th>\n",
              "      <td>23.690637</td>\n",
              "      <td>11.274141</td>\n",
              "      <td>1.872073</td>\n",
              "      <td>24.927477</td>\n",
              "      <td>18.344127</td>\n",
              "      <td>56.119071</td>\n",
              "      <td>1.106405</td>\n",
              "      <td>0.903432</td>\n",
              "      <td>6.231687</td>\n",
              "      <td>20.268753</td>\n",
              "      <td>0.973207</td>\n",
              "      <td>0.486878</td>\n",
              "    </tr>\n",
              "    <tr>\n",
              "      <th>min</th>\n",
              "      <td>1.000000</td>\n",
              "      <td>0.000000</td>\n",
              "      <td>-1.000000</td>\n",
              "      <td>100.000000</td>\n",
              "      <td>59.000000</td>\n",
              "      <td>70.000000</td>\n",
              "      <td>0.000000</td>\n",
              "      <td>0.000000</td>\n",
              "      <td>18.000000</td>\n",
              "      <td>160.000000</td>\n",
              "      <td>-1.000000</td>\n",
              "      <td>0.000000</td>\n",
              "    </tr>\n",
              "    <tr>\n",
              "      <th>25%</th>\n",
              "      <td>28.000000</td>\n",
              "      <td>10.000000</td>\n",
              "      <td>2.000000</td>\n",
              "      <td>132.000000</td>\n",
              "      <td>91.000000</td>\n",
              "      <td>203.000000</td>\n",
              "      <td>0.000000</td>\n",
              "      <td>0.000000</td>\n",
              "      <td>29.000000</td>\n",
              "      <td>205.000000</td>\n",
              "      <td>1.000000</td>\n",
              "      <td>2.000000</td>\n",
              "    </tr>\n",
              "    <tr>\n",
              "      <th>50%</th>\n",
              "      <td>49.000000</td>\n",
              "      <td>18.000000</td>\n",
              "      <td>4.000000</td>\n",
              "      <td>154.000000</td>\n",
              "      <td>104.000000</td>\n",
              "      <td>239.000000</td>\n",
              "      <td>1.000000</td>\n",
              "      <td>1.000000</td>\n",
              "      <td>34.000000</td>\n",
              "      <td>219.000000</td>\n",
              "      <td>2.000000</td>\n",
              "      <td>2.000000</td>\n",
              "    </tr>\n",
              "    <tr>\n",
              "      <th>75%</th>\n",
              "      <td>66.000000</td>\n",
              "      <td>25.000000</td>\n",
              "      <td>5.000000</td>\n",
              "      <td>175.000000</td>\n",
              "      <td>118.000000</td>\n",
              "      <td>268.000000</td>\n",
              "      <td>2.000000</td>\n",
              "      <td>2.000000</td>\n",
              "      <td>38.000000</td>\n",
              "      <td>234.000000</td>\n",
              "      <td>3.000000</td>\n",
              "      <td>2.000000</td>\n",
              "    </tr>\n",
              "    <tr>\n",
              "      <th>max</th>\n",
              "      <td>90.000000</td>\n",
              "      <td>45.000000</td>\n",
              "      <td>6.000000</td>\n",
              "      <td>195.000000</td>\n",
              "      <td>135.000000</td>\n",
              "      <td>295.000000</td>\n",
              "      <td>3.000000</td>\n",
              "      <td>3.000000</td>\n",
              "      <td>45.000000</td>\n",
              "      <td>253.000000</td>\n",
              "      <td>3.000000</td>\n",
              "      <td>3.000000</td>\n",
              "    </tr>\n",
              "  </tbody>\n",
              "</table>\n",
              "</div>\n",
              "      <button class=\"colab-df-convert\" onclick=\"convertToInteractive('df-7dc67fea-828c-4395-85da-159ecc4d5d9b')\"\n",
              "              title=\"Convert this dataframe to an interactive table.\"\n",
              "              style=\"display:none;\">\n",
              "        \n",
              "  <svg xmlns=\"http://www.w3.org/2000/svg\" height=\"24px\"viewBox=\"0 0 24 24\"\n",
              "       width=\"24px\">\n",
              "    <path d=\"M0 0h24v24H0V0z\" fill=\"none\"/>\n",
              "    <path d=\"M18.56 5.44l.94 2.06.94-2.06 2.06-.94-2.06-.94-.94-2.06-.94 2.06-2.06.94zm-11 1L8.5 8.5l.94-2.06 2.06-.94-2.06-.94L8.5 2.5l-.94 2.06-2.06.94zm10 10l.94 2.06.94-2.06 2.06-.94-2.06-.94-.94-2.06-.94 2.06-2.06.94z\"/><path d=\"M17.41 7.96l-1.37-1.37c-.4-.4-.92-.59-1.43-.59-.52 0-1.04.2-1.43.59L10.3 9.45l-7.72 7.72c-.78.78-.78 2.05 0 2.83L4 21.41c.39.39.9.59 1.41.59.51 0 1.02-.2 1.41-.59l7.78-7.78 2.81-2.81c.8-.78.8-2.07 0-2.86zM5.41 20L4 18.59l7.72-7.72 1.47 1.35L5.41 20z\"/>\n",
              "  </svg>\n",
              "      </button>\n",
              "      \n",
              "  <style>\n",
              "    .colab-df-container {\n",
              "      display:flex;\n",
              "      flex-wrap:wrap;\n",
              "      gap: 12px;\n",
              "    }\n",
              "\n",
              "    .colab-df-convert {\n",
              "      background-color: #E8F0FE;\n",
              "      border: none;\n",
              "      border-radius: 50%;\n",
              "      cursor: pointer;\n",
              "      display: none;\n",
              "      fill: #1967D2;\n",
              "      height: 32px;\n",
              "      padding: 0 0 0 0;\n",
              "      width: 32px;\n",
              "    }\n",
              "\n",
              "    .colab-df-convert:hover {\n",
              "      background-color: #E2EBFA;\n",
              "      box-shadow: 0px 1px 2px rgba(60, 64, 67, 0.3), 0px 1px 3px 1px rgba(60, 64, 67, 0.15);\n",
              "      fill: #174EA6;\n",
              "    }\n",
              "\n",
              "    [theme=dark] .colab-df-convert {\n",
              "      background-color: #3B4455;\n",
              "      fill: #D2E3FC;\n",
              "    }\n",
              "\n",
              "    [theme=dark] .colab-df-convert:hover {\n",
              "      background-color: #434B5C;\n",
              "      box-shadow: 0px 1px 3px 1px rgba(0, 0, 0, 0.15);\n",
              "      filter: drop-shadow(0px 1px 2px rgba(0, 0, 0, 0.3));\n",
              "      fill: #FFFFFF;\n",
              "    }\n",
              "  </style>\n",
              "\n",
              "      <script>\n",
              "        const buttonEl =\n",
              "          document.querySelector('#df-7dc67fea-828c-4395-85da-159ecc4d5d9b button.colab-df-convert');\n",
              "        buttonEl.style.display =\n",
              "          google.colab.kernel.accessAllowed ? 'block' : 'none';\n",
              "\n",
              "        async function convertToInteractive(key) {\n",
              "          const element = document.querySelector('#df-7dc67fea-828c-4395-85da-159ecc4d5d9b');\n",
              "          const dataTable =\n",
              "            await google.colab.kernel.invokeFunction('convertToInteractive',\n",
              "                                                     [key], {});\n",
              "          if (!dataTable) return;\n",
              "\n",
              "          const docLinkHtml = 'Like what you see? Visit the ' +\n",
              "            '<a target=\"_blank\" href=https://colab.research.google.com/notebooks/data_table.ipynb>data table notebook</a>'\n",
              "            + ' to learn more about interactive tables.';\n",
              "          element.innerHTML = '';\n",
              "          dataTable['output_type'] = 'display_data';\n",
              "          await google.colab.output.renderOutput(dataTable, element);\n",
              "          const docLink = document.createElement('div');\n",
              "          docLink.innerHTML = docLinkHtml;\n",
              "          element.appendChild(docLink);\n",
              "        }\n",
              "      </script>\n",
              "    </div>\n",
              "  </div>\n",
              "  "
            ]
          },
          "metadata": {},
          "execution_count": 95
        }
      ]
    },
    {
      "cell_type": "code",
      "source": [
        "#getting information about dataset\n",
        "df.info()"
      ],
      "metadata": {
        "id": "VfOQHixFy8WU",
        "colab": {
          "base_uri": "https://localhost:8080/"
        },
        "outputId": "e5a22a77-f0ba-4c9c-8eb8-0ee108ad8337"
      },
      "execution_count": null,
      "outputs": [
        {
          "output_type": "stream",
          "name": "stdout",
          "text": [
            "<class 'pandas.core.frame.DataFrame'>\n",
            "RangeIndex: 4798 entries, 0 to 4797\n",
            "Data columns (total 13 columns):\n",
            " #   Column       Non-Null Count  Dtype \n",
            "---  ------       --------------  ----- \n",
            " 0   age          4798 non-null   int64 \n",
            " 1   gender       4798 non-null   object\n",
            " 2   NIHSS_Score  4798 non-null   int64 \n",
            " 3   mRS          4798 non-null   int64 \n",
            " 4   systolic     4798 non-null   int64 \n",
            " 5   diastolic    4798 non-null   int64 \n",
            " 6   glucose      4798 non-null   int64 \n",
            " 7   paralysis    4798 non-null   int64 \n",
            " 8   smoking      4798 non-null   int64 \n",
            " 9   bmi          4798 non-null   int64 \n",
            " 10  cholestrol   4798 non-null   int64 \n",
            " 11  tos          4798 non-null   int64 \n",
            " 12  risk         4798 non-null   int64 \n",
            "dtypes: int64(12), object(1)\n",
            "memory usage: 487.4+ KB\n"
          ]
        }
      ]
    },
    {
      "cell_type": "code",
      "source": [
        "#preprocessing\n",
        "m = {\"Male\": 1, \"Female\": 0}\n",
        "f = {\"Male\": 0, \"Female\": 1}\n",
        "df.insert(1, \"Female\", df['gender'].map(f), True)\n",
        "df.insert(1, \"Male\", df['gender'].map(m), True)\n",
        "# dropping gender column\n",
        "df.drop(['gender'], axis=1, inplace=True)\n",
        "print(df)"
      ],
      "metadata": {
        "id": "BiFxrE_l1J8W",
        "colab": {
          "base_uri": "https://localhost:8080/"
        },
        "outputId": "768d182f-0cbf-4868-a1bc-b59122290e1e"
      },
      "execution_count": null,
      "outputs": [
        {
          "output_type": "stream",
          "name": "stdout",
          "text": [
            "      age  Male  Female  NIHSS_Score  mRS  systolic  diastolic  glucose  \\\n",
            "0      61     1       0            0   -1       124         80       77   \n",
            "1      75     1       0            0   -1       123         82       79   \n",
            "2      73     1       0            0   -1       121         83       83   \n",
            "3      63     0       1            0   -1       120         85      105   \n",
            "4      23     1       0            0   -1       126         81       89   \n",
            "...   ...   ...     ...          ...  ...       ...        ...      ...   \n",
            "4793   67     1       0           13    6       180         83      198   \n",
            "4794   67     0       1           20    3       180         88      188   \n",
            "4795   65     1       0            6    4       126        111      227   \n",
            "4796   64     1       0           19    5       126         82      262   \n",
            "4797   65     1       0            5    1       169        115      263   \n",
            "\n",
            "      paralysis  smoking  bmi  cholestrol  tos  risk  \n",
            "0             0        0   22         200   -1     0  \n",
            "1             0        0   20         208   -1     0  \n",
            "2             0        0   20         208   -1     0  \n",
            "3             0        0   20         210   -1     0  \n",
            "4             0        0   22         201   -1     0  \n",
            "...         ...      ...  ...         ...  ...   ...  \n",
            "4793          1        2   39         219    3     2  \n",
            "4794          0        2   22         187    1     2  \n",
            "4795          0        3   23         233    3     2  \n",
            "4796          2        2   28         244    1     2  \n",
            "4797          0        3   27         231    3     2  \n",
            "\n",
            "[4798 rows x 14 columns]\n"
          ]
        }
      ]
    },
    {
      "cell_type": "code",
      "source": [
        "#finding no.of patients in each stage of risk\n",
        "zero = df[df['risk']==0]\n",
        "one = df[df['risk']==1]\n",
        "two = df[df['risk']==2]\n",
        "three = df[df['risk']==3]\n",
        "print(\"Risk 0:\", zero.shape[0])\n",
        "print(\"Risk 1:\", one.shape[0])\n",
        "print(\"Risk 2:\", two.shape[0])\n",
        "print(\"Risk 3:\", three.shape[0])\n",
        "\n",
        "y = df.values[:, -1].reshape(df.values.shape[0], 1)\n",
        "X = df.values[:, :-1]"
      ],
      "metadata": {
        "id": "awSwca3U1kEt",
        "colab": {
          "base_uri": "https://localhost:8080/"
        },
        "outputId": "4714e323-ed89-4b70-dfc3-4a3aa1a72d30"
      },
      "execution_count": null,
      "outputs": [
        {
          "output_type": "stream",
          "name": "stdout",
          "text": [
            "Risk 0: 87\n",
            "Risk 1: 632\n",
            "Risk 2: 3852\n",
            "Risk 3: 227\n"
          ]
        }
      ]
    },
    {
      "cell_type": "code",
      "source": [
        "#MinMax Scaling \n",
        "scaler = MinMaxScaler() #-object\n",
        "X = scaler.fit_transform(X) #-method\n",
        "print(X)"
      ],
      "metadata": {
        "id": "kDyF5qfH2PxR",
        "colab": {
          "base_uri": "https://localhost:8080/"
        },
        "outputId": "84b1db78-c9ae-42bc-9c09-a2715a5a8c9b"
      },
      "execution_count": null,
      "outputs": [
        {
          "output_type": "stream",
          "name": "stdout",
          "text": [
            "[[0.6741573  1.         0.         ... 0.14814815 0.43010753 0.        ]\n",
            " [0.83146067 1.         0.         ... 0.07407407 0.51612903 0.        ]\n",
            " [0.80898876 1.         0.         ... 0.07407407 0.51612903 0.        ]\n",
            " ...\n",
            " [0.71910112 1.         0.         ... 0.18518519 0.78494624 1.        ]\n",
            " [0.70786517 1.         0.         ... 0.37037037 0.90322581 0.5       ]\n",
            " [0.71910112 1.         0.         ... 0.33333333 0.76344086 1.        ]]\n"
          ]
        }
      ]
    },
    {
      "cell_type": "code",
      "source": [
        "#OverSampling\n",
        "smk = SMOTETomek(random_state=42)\n",
        "X, y = smk.fit_resample(X, y)\n",
        "print(X)\n",
        "print(\"After Oversampling:\")\n",
        "print(\"Risk\", Counter(y))"
      ],
      "metadata": {
        "id": "94seDog426Ek",
        "colab": {
          "base_uri": "https://localhost:8080/"
        },
        "outputId": "b0e415a6-b06d-4685-b7b6-0c97e3f26f52"
      },
      "execution_count": null,
      "outputs": [
        {
          "output_type": "stream",
          "name": "stdout",
          "text": [
            "[[0.6741573  1.         0.         ... 0.14814815 0.43010753 0.        ]\n",
            " [0.83146067 1.         0.         ... 0.07407407 0.51612903 0.        ]\n",
            " [0.80898876 1.         0.         ... 0.07407407 0.51612903 0.        ]\n",
            " ...\n",
            " [0.57303371 1.         0.         ... 0.91952751 0.61886899 1.        ]\n",
            " [0.69662921 0.         1.         ... 0.96296296 0.88172043 1.        ]\n",
            " [0.7752809  1.         0.         ... 0.74074074 0.91397849 1.        ]]\n",
            "After Oversampling:\n",
            "Risk Counter({0: 3851, 3: 3851, 1: 3850, 2: 3850})\n"
          ]
        }
      ]
    },
    {
      "cell_type": "code",
      "source": [
        "#defining x for testing and training\n",
        "x_train, x_test, y_train, y_test = train_test_split(X, y, test_size=0.2, random_state=0)"
      ],
      "metadata": {
        "id": "1xdu3qyK3Gif"
      },
      "execution_count": null,
      "outputs": []
    },
    {
      "cell_type": "code",
      "source": [
        "#NOVEL-KNN\n",
        "from sklearn.neighbors import KNeighborsClassifier\n",
        "from sklearn.metrics import accuracy_score\n",
        "from sklearn.metrics import precision_score\n",
        "from sklearn.metrics import recall_score\n",
        "from sklearn.metrics import f1_score\n",
        "import pickle\n",
        "error_rate = []\n",
        "acc = []\n",
        "ps=[]\n",
        "rs=[]\n",
        "fs=[]\n",
        "for i in range(1,50):\n",
        " knn = KNeighborsClassifier(n_neighbors=i) #Power Parameter DEFAULT p=2\n",
        " knn.fit(x_train,y_train)\n",
        " pred_i = knn.predict(x_test)\n",
        " error_rate.append(np.mean(pred_i != y_test))\n",
        " acc.append(accuracy_score(y_test, pred_i))#Storing the accuracy score in list\n",
        " ps.append(precision_score(y_test, pred_i, average='macro')) #Storing the precision score in list\n",
        " rs.append(recall_score(y_test, pred_i, average='macro')) #Storing recall score in list\n",
        " fs.append(f1_score(y_test, pred_i, average='macro')) #Storing f1 score in list\n",
        " file1 = open(\"KNN(E)\", \"wb\") #Storing the weights of the model\n",
        " pickle.dump(knn, file1) #Model trained on grid search parameters\n",
        " file1.close()\n",
        " \n",
        "#ERROR RATE vs K-VALUE\n",
        "plt.figure(figsize=(10,6))\n",
        "plt.plot(range(1,50),error_rate,color='blue', linestyle='dashed', marker='o',markerfacecolor='red', markersize=10)\n",
        "plt.title('Error Rate vs. K Value')\n",
        "plt.xlabel('K')\n",
        "plt.ylabel('Error Rate')\n",
        "print(\"Minimum error:\",min(error_rate),\"at K =\",error_rate.index(min(error_rate))+1)\n",
        "\n",
        "#ACCURACY vs K-VALUE\n",
        "plt.figure(figsize=(10,6))\n",
        "plt.plot(range(1,50),acc,color = 'blue',linestyle='dashed', marker='o',markerfacecolor='red', markersize=10)\n",
        "plt.title('accuracy vs. K Value')\n",
        "plt.xlabel('K')\n",
        "plt.ylabel('Accuracy')\n",
        "#We find the model with minimum error and maximum accuracy\n",
        "print(\"Maximum accuracy:\",max(acc),\"at K =\",acc.index(max(acc))+1)\n",
        "print(\"Maximum precision score:\",max(acc),\"at K =\",ps.index(max(ps))+1)\n",
        "print(\"Maximum recall score:\",max(acc),\"at K =\",rs.index(max(rs))+1)\n",
        "print(\"Maximum f1 score:\",max(acc),\"at K =\",fs.index(max(fs))+1)\n",
        "\n",
        "\n",
        "knn = KNeighborsClassifier(n_neighbors=acc.index(max(acc))+1) \n",
        "knn.fit(x_train,y_train)\n",
        "pred = knn.predict(x_test)\n",
        "file1 = open(\"KNN(E)\", \"wb\") #Storing the weights of the model\n",
        "pickle.dump(knn, file1) #Model trained on grid search parameters\n",
        "file1.close()\n",
        "print(classification_report(y_test, pred))# Classification Report\n",
        "sklearn.metrics.plot_confusion_matrix(knn,x_test,y_test,cmap=plt.cm.Blues)    #Confusion Matrix"
      ],
      "metadata": {
        "id": "XxGGJRVNzTGQ",
        "colab": {
          "base_uri": "https://localhost:8080/",
          "height": 1000
        },
        "outputId": "7a209a13-a6aa-468c-b431-9ab38c392a15"
      },
      "execution_count": null,
      "outputs": [
        {
          "output_type": "stream",
          "name": "stdout",
          "text": [
            "Minimum error: 0.016877637130801686 at K = 1\n",
            "Maximum accuracy: 0.9831223628691983 at K = 1\n",
            "Maximum precision score: 0.9831223628691983 at K = 1\n",
            "Maximum recall score: 0.9831223628691983 at K = 1\n",
            "Maximum f1 score: 0.9831223628691983 at K = 1\n",
            "              precision    recall  f1-score   support\n",
            "\n",
            "           0       0.98      1.00      0.99       795\n",
            "           1       0.97      0.98      0.98       793\n",
            "           2       1.00      0.95      0.97       716\n",
            "           3       0.98      1.00      0.99       777\n",
            "\n",
            "    accuracy                           0.98      3081\n",
            "   macro avg       0.98      0.98      0.98      3081\n",
            "weighted avg       0.98      0.98      0.98      3081\n",
            "\n"
          ]
        },
        {
          "output_type": "execute_result",
          "data": {
            "text/plain": [
              "<sklearn.metrics._plot.confusion_matrix.ConfusionMatrixDisplay at 0x7fe50ec2faf0>"
            ]
          },
          "metadata": {},
          "execution_count": 102
        },
        {
          "output_type": "display_data",
          "data": {
            "text/plain": [
              "<Figure size 720x432 with 1 Axes>"
            ],
            "image/png": "[encoded data removed]"
          },
          "metadata": {
            "needs_background": "light"
          }
        },
        {
          "output_type": "display_data",
          "data": {
            "text/plain": [
              "<Figure size 720x432 with 1 Axes>"
            ],
            "image/png": "[encoded data removed]"
          },
          "metadata": {
            "needs_background": "light"
          }
        },
        {
          "output_type": "display_data",
          "data": {
            "text/plain": [
              "<Figure size 432x288 with 2 Axes>"
            ],
            "image/png": "[encoded data removed]"
          },
          "metadata": {
            "needs_background": "light"
          }
        }
      ]
    },
    {
      "cell_type": "code",
      "source": [
        "#LOGISTIC REGRESSION cell - 1\n",
        "param_grid = {'cv':[3, 5, 8, 10, 12],\n",
        "              'max_iter': [100, 200, 500, 1000, 2000]}\n",
        "\n",
        "GS_LR = GridSearchCV(LogisticRegressionCV(), param_grid)\n",
        "GS_LR.fit(x_train, y_train.ravel())\n",
        "print(GS_LR.best_params_)\n",
        "print(GS_LR.score(x_test,y_test))"
      ],
      "metadata": {
        "colab": {
          "base_uri": "https://localhost:8080/"
        },
        "id": "KS8oyDQwaGW6",
        "outputId": "9ce9fcc1-9541-47d2-b39e-2800608b7a71"
      },
      "execution_count": null,
      "outputs": [
        {
          "output_type": "stream",
          "name": "stdout",
          "text": [
            "{'cv': 3, 'max_iter': 100}\n",
            "0.9308666017526777\n"
          ]
        }
      ]
    },
    {
      "cell_type": "code",
      "source": [
        "# LOGISTIC REGRESSION cell -2\n",
        "classifier = LogisticRegressionCV(cv=5, random_state = 0, max_iter=1000)\n",
        "classifier.fit(x_train, y_train.ravel())\n",
        "y_pred = classifier.predict(x_test)\n",
        "print(\"Confusion Matrix:\\n\", confusion_matrix(y_test, y_pred))\n",
        "print(\"Accuracy:\", accuracy_score(y_test, y_pred)*100)\n",
        "print(\"Precision:\", precision_score(y_test, y_pred, average='macro'))\n",
        "print(\"Recall:\", recall_score(y_test, y_pred, average='macro'))\n",
        "print(\"F1 Score:\", f1_score(y_test, y_pred, average='macro'))\n",
        "print(classification_report(y_test, y_pred))\n",
        "sklearn.metrics.plot_confusion_matrix(classifier,x_test,y_test,cmap=plt.cm.Blues)"
      ],
      "metadata": {
        "colab": {
          "base_uri": "https://localhost:8080/",
          "height": 654
        },
        "id": "jnof4J8YJabi",
        "outputId": "a6f58a0c-054b-4180-f6aa-f46ef4c52208"
      },
      "execution_count": null,
      "outputs": [
        {
          "output_type": "stream",
          "name": "stdout",
          "text": [
            "Confusion Matrix:\n",
            " [[795   0   0   0]\n",
            " [ 83 699  11   0]\n",
            " [  0  18 625  73]\n",
            " [  0   0  29 748]]\n",
            "Accuracy: 93.05420318078545\n",
            "Precision: 0.9328240089464747\n",
            "Recall: 0.9292611975263775\n",
            "F1 Score: 0.9293819382433228\n",
            "              precision    recall  f1-score   support\n",
            "\n",
            "           0       0.91      1.00      0.95       795\n",
            "           1       0.97      0.88      0.93       793\n",
            "           2       0.94      0.87      0.91       716\n",
            "           3       0.91      0.96      0.94       777\n",
            "\n",
            "    accuracy                           0.93      3081\n",
            "   macro avg       0.93      0.93      0.93      3081\n",
            "weighted avg       0.93      0.93      0.93      3081\n",
            "\n"
          ]
        },
        {
          "output_type": "execute_result",
          "data": {
            "text/plain": [
              "<sklearn.metrics._plot.confusion_matrix.ConfusionMatrixDisplay at 0x7fe50f0b66d0>"
            ]
          },
          "metadata": {},
          "execution_count": 114
        },
        {
          "output_type": "display_data",
          "data": {
            "text/plain": [
              "<Figure size 432x288 with 2 Axes>"
            ],
            "image/png": "[encoded data removed]"
          },
          "metadata": {
            "needs_background": "light"
          }
        }
      ]
    },
    {
      "cell_type": "code",
      "source": [
        "#MULTILAYER PERCEPTRON cell - 1\n",
        "param_grid = {'activation':['relu', 'identity', 'logistic', 'tanh'],\n",
        "              'max_iter': [50, 100, 150, 200],\n",
        "              'alpha':[0.1, 0.5, 0.05, 0.01, 0.008],\n",
        "              'learning_rate_init':[0.1, 0.5, 0.05, 0.01, 0.008]}\n",
        "\n",
        "GS_MLP = GridSearchCV(MLPClassifier(), param_grid)\n",
        "GS_MLP.fit(x_train, y_train.ravel())\n",
        "print(GS_MLP.best_params_)\n",
        "print(GS_MLP.score(x_test,y_test))"
      ],
      "metadata": {
        "colab": {
          "base_uri": "https://localhost:8080/"
        },
        "id": "5jz1sPRsG1KV",
        "outputId": "918b03fa-538c-49b3-ed57-9d8d3081ee99"
      },
      "execution_count": null,
      "outputs": [
        {
          "output_type": "stream",
          "name": "stdout",
          "text": [
            "{'activation': 'relu', 'alpha': 0.008, 'learning_rate_init': 0.008, 'max_iter': 150}\n",
            "0.9571567672833495\n"
          ]
        }
      ]
    },
    {
      "cell_type": "code",
      "source": [
        "#MULTILAYER PERCEPTRON cell - 2\n",
        "mlp_clf = MLPClassifier(activation='relu', alpha=0.008, learning_rate_init=0.01, max_iter=100)\n",
        "mlp_clf.fit(x_train, y_train.ravel())\n",
        "y_pred = mlp_clf.predict(x_test)\n",
        "print(\"Confusion Matrix:\\n\", confusion_matrix(y_test, y_pred))\n",
        "print(\"Accuracy:\", accuracy_score(y_test, y_pred)*100)\n",
        "print(\"Precision:\", precision_score(y_test, y_pred, average='macro'))\n",
        "print(\"Recall:\", recall_score(y_test, y_pred, average='macro'))\n",
        "print(\"F1 Score:\", f1_score(y_test, y_pred, average='macro'))\n",
        "print(classification_report(y_test, y_pred))\n",
        "sklearn.metrics.plot_confusion_matrix(mlp_clf,x_test,y_test,cmap=plt.cm.Blues)"
      ],
      "metadata": {
        "colab": {
          "base_uri": "https://localhost:8080/",
          "height": 654
        },
        "id": "IJiHs4L6ZE4p",
        "outputId": "6c96bcb0-1f14-46f0-fad9-8aafc9ff11a3"
      },
      "execution_count": null,
      "outputs": [
        {
          "output_type": "stream",
          "name": "stdout",
          "text": [
            "Confusion Matrix:\n",
            " [[794   1   0   0]\n",
            " [ 74 711   8   0]\n",
            " [  0   8 670  38]\n",
            " [  0   0   1 776]]\n",
            "Accuracy: 95.78059071729957\n",
            "Precision: 0.9605771776612732\n",
            "Recall: 0.9574511337731326\n",
            "F1 Score: 0.9577039917417735\n",
            "              precision    recall  f1-score   support\n",
            "\n",
            "           0       0.91      1.00      0.95       795\n",
            "           1       0.99      0.90      0.94       793\n",
            "           2       0.99      0.94      0.96       716\n",
            "           3       0.95      1.00      0.98       777\n",
            "\n",
            "    accuracy                           0.96      3081\n",
            "   macro avg       0.96      0.96      0.96      3081\n",
            "weighted avg       0.96      0.96      0.96      3081\n",
            "\n"
          ]
        },
        {
          "output_type": "execute_result",
          "data": {
            "text/plain": [
              "<sklearn.metrics._plot.confusion_matrix.ConfusionMatrixDisplay at 0x7fe50f3d63a0>"
            ]
          },
          "metadata": {},
          "execution_count": 111
        },
        {
          "output_type": "display_data",
          "data": {
            "text/plain": [
              "<Figure size 432x288 with 2 Axes>"
            ],
            "image/png": "[encoded data removed]"
          },
          "metadata": {
            "needs_background": "light"
          }
        }
      ]
    },
    {
      "cell_type": "code",
      "source": [
        "#MULTILAYER PERCEPTRON cell - 3\n",
        "plt.plot(mlp_clf.loss_curve_, label=\"Train Loss\")\n",
        "mlp_clf.fit(x_test, y_test.ravel())\n",
        "plt.plot(mlp_clf.loss_curve_, label=\"Test Loss\")\n",
        "plt.title(\"MLPClassifier Loss vs Iterations\")\n",
        "plt.xlabel(\"Iterations\")\n",
        "plt.ylabel(\"Loss\")\n",
        "plt.legend()\n",
        "plt.show()"
      ],
      "metadata": {
        "colab": {
          "base_uri": "https://localhost:8080/",
          "height": 295
        },
        "id": "vcA6EfRtZTuX",
        "outputId": "6e934a6f-9ca8-4b47-befe-8f839b53c128"
      },
      "execution_count": null,
      "outputs": [
        {
          "output_type": "display_data",
          "data": {
            "text/plain": [
              "<Figure size 432x288 with 1 Axes>"
            ],
            "image/png": "[encoded data removed]"
          },
          "metadata": {
            "needs_background": "light"
          }
        }
      ]
    },
    {
      "cell_type": "code",
      "source": [
        "#RANDOM FOREST cell-1\n",
        "# seeing the feature importance variable\n",
        "model = RandomForestClassifier(n_estimators = 100)\n",
        "feature_names=df.columns[:-1]\n",
        "# Train the model using the training sets\n",
        "model.fit(x_train, y_train)\n",
        "feature_imp = pd.Series(model.feature_importances_,index=feature_names ).sort_values(ascending = False)\n",
        "feature_imp"
      ],
      "metadata": {
        "colab": {
          "base_uri": "https://localhost:8080/"
        },
        "id": "URt_faTlCWnZ",
        "outputId": "eefcc0d5-d1f0-450d-8e78-fdb128c6e965"
      },
      "execution_count": null,
      "outputs": [
        {
          "output_type": "execute_result",
          "data": {
            "text/plain": [
              "NIHSS_Score    0.219081\n",
              "mRS            0.172159\n",
              "bmi            0.133198\n",
              "glucose        0.101074\n",
              "tos            0.100004\n",
              "systolic       0.079281\n",
              "paralysis      0.054428\n",
              "diastolic      0.046516\n",
              "cholestrol     0.043889\n",
              "age            0.024777\n",
              "smoking        0.021275\n",
              "Male           0.002221\n",
              "Female         0.002096\n",
              "dtype: float64"
            ]
          },
          "metadata": {},
          "execution_count": 106
        }
      ]
    },
    {
      "cell_type": "code",
      "source": [
        "#RANDOM FOREST cell-2\n",
        "# Number of trees in random forest\n",
        "n_estimators = [int(x) for x in np.linspace(start = 200, stop = 2000, num = 10)]\n",
        "# Number of features to consider at every split\n",
        "max_features = ['auto', 'sqrt']\n",
        "# Maximum number of levels in tree\n",
        "max_depth = [int(x) for x in np.linspace(10, 110, num = 11)]\n",
        "max_depth.append(None)\n",
        "# Minimum number of samples required to split a node\n",
        "min_samples_split = [2, 5, 10]\n",
        "# Minimum number of samples required at each leaf node\n",
        "min_samples_leaf = [1, 2, 4]\n",
        "# Method of selecting samples for training each tree\n",
        "bootstrap = [True, False]\n",
        "\n",
        "param_grid = {'criterion':['gini','entropy'],\n",
        "              'random_state':[23],\n",
        "              'bootstrap': [True, False],\n",
        "              'max_depth': [10, 20, 30, 40, 50, 60, 70, 80, None]}\n",
        "\n",
        "GS_RF=GridSearchCV(RandomForestClassifier(), param_grid)\n",
        "GS_RF.fit(x_train,y_train.ravel())\n",
        "print(GS_RF.best_params_)\n",
        "print(GS_RF.score(x_test,y_test))"
      ],
      "metadata": {
        "colab": {
          "base_uri": "https://localhost:8080/"
        },
        "id": "Xl4u5bHeCZvk",
        "outputId": "0d9aaa09-5953-429d-bf9e-3c13dafb8606"
      },
      "execution_count": null,
      "outputs": [
        {
          "output_type": "stream",
          "name": "stdout",
          "text": [
            "{'bootstrap': False, 'criterion': 'gini', 'max_depth': 40, 'random_state': 23}\n",
            "0.9847452125933138\n"
          ]
        }
      ]
    },
    {
      "cell_type": "code",
      "source": [
        "#RANDOM FOREST cell-3 (took 11-12 min)\n",
        "def performance(y_test,y_pred):\n",
        "  print(\"accuracy\",accuracy_score(y_test, y_pred))\n",
        "  cm=confusion_matrix(y_test,y_pred)\n",
        "  print(\"Confusion matrix\")\n",
        "  print(cm)\n",
        "  print(classification_report(y_test, y_pred))\n",
        "  report = classification_report(y_test, y_pred,output_dict=True )\n",
        "  return report\n",
        "\n",
        "model=RandomForestClassifier(bootstrap=True, criterion= 'entropy', max_depth= 20, random_state= 23)\n",
        "model.fit(x_train, y_train.ravel())\n",
        "yhat = model.predict(x_test)\n",
        "report=performance(y_test,yhat)\n",
        "sklearn.metrics.plot_confusion_matrix(model,x_test,y_test,cmap=plt.cm.Blues)\n",
        "print(\"score\",model.score(x_test,y_test))\n",
        "print(\"precision\",sklearn.metrics.precision_score(y_test,yhat,average=\"macro\"))\n",
        "print(\"recall\",sklearn.metrics.recall_score(y_test,yhat,average=\"macro\"))\n",
        "print(\"F! Score\",sklearn.metrics.f1_score(y_test,yhat,average=\"macro\"))"
      ],
      "metadata": {
        "colab": {
          "base_uri": "https://localhost:8080/",
          "height": 654
        },
        "id": "5kiPwptJD8Ek",
        "outputId": "34e8ac0b-0752-4610-9673-d0024741da12"
      },
      "execution_count": null,
      "outputs": [
        {
          "output_type": "stream",
          "name": "stdout",
          "text": [
            "accuracy 0.9814995131450828\n",
            "Confusion matrix\n",
            "[[795   0   0   0]\n",
            " [ 37 752   4   0]\n",
            " [  0   0 707   9]\n",
            " [  0   0   7 770]]\n",
            "              precision    recall  f1-score   support\n",
            "\n",
            "           0       0.96      1.00      0.98       795\n",
            "           1       1.00      0.95      0.97       793\n",
            "           2       0.98      0.99      0.99       716\n",
            "           3       0.99      0.99      0.99       777\n",
            "\n",
            "    accuracy                           0.98      3081\n",
            "   macro avg       0.98      0.98      0.98      3081\n",
            "weighted avg       0.98      0.98      0.98      3081\n",
            "\n",
            "score 0.9814995131450828\n",
            "precision 0.9821638096161343\n",
            "recall 0.9816796906560163\n",
            "F! Score 0.9816229409695858\n"
          ]
        },
        {
          "output_type": "display_data",
          "data": {
            "text/plain": [
              "<Figure size 432x288 with 2 Axes>"
            ],
            "image/png": "[encoded data removed]"
          },
          "metadata": {
            "needs_background": "light"
          }
        }
      ]
    },
    {
      "cell_type": "code",
      "source": [
        "#RANDOM FOREST cell-4\n",
        "rf_train_score=[]\n",
        "rf_test_score=[]\n",
        "for i in np.arange(1, 35):\n",
        "  param_grid = {'criterion':['gini','entropy'],'max_depth': [i],'random_state':[23]}\n",
        "  GS_RF=GridSearchCV(RandomForestClassifier(), param_grid,cv=5)\n",
        "  GS_RF.fit(x_train,y_train.ravel())\n",
        "  y_train_pred=GS_RF.predict(x_train)\n",
        "  rf_train_score.append(accuracy_score(y_train,y_train_pred))\n",
        "  y_pred=GS_RF.predict(x_test)\n",
        "  rf_test_score.append(accuracy_score(y_test,y_pred))\n",
        " \n",
        "plt.title(\"Random Forest Classifier : Accuracy vs Max Depth\")\n",
        "plt.xlabel(\"Max Depth\")\n",
        "plt.ylabel(\"Accuracy\")\n",
        "plt.plot(np.arange(1,35),rf_train_score,label=\"Training Accuracy\")\n",
        "plt.plot(np.arange(1,35),rf_test_score,label=\"Testing Accuracy\")\n",
        "plt.legend()\n",
        "plt.plot()"
      ],
      "metadata": {
        "colab": {
          "base_uri": "https://localhost:8080/",
          "height": 313
        },
        "id": "Gk_f8J_MENyy",
        "outputId": "2555378d-491a-4546-c5df-51cc4d1ef9ca"
      },
      "execution_count": null,
      "outputs": [
        {
          "output_type": "execute_result",
          "data": {
            "text/plain": [
              "[]"
            ]
          },
          "metadata": {},
          "execution_count": 109
        },
        {
          "output_type": "display_data",
          "data": {
            "text/plain": [
              "<Figure size 432x288 with 1 Axes>"
            ],
            "image/png": "[encoded data removed]"
          },
          "metadata": {
            "needs_background": "light"
          }
        }
      ]
    },
    {
      "cell_type": "code",
      "source": [
        "#NAIVE BAYES (complement) cell-1\n",
        "def nb_test(model,x_train,y_train):\n",
        "  \n",
        "  print(\"\\n parameters: \")\n",
        "  #it gives us the default parameters since those are the ones used \n",
        "  print( model.get_params(deep=True))\n",
        "  print(\"\\n log-probability estimates: \")\n",
        "  print(model.predict_log_proba(x_train))\n",
        "  print(\"\\n probability estimates: \")\n",
        "  print(model.predict_proba(x_train))\n"
      ],
      "metadata": {
        "id": "fzwy1__n1667"
      },
      "execution_count": null,
      "outputs": []
    },
    {
      "cell_type": "code",
      "source": [
        "#NAIVE BAYES (complement) cell-2\n",
        "from sklearn.naive_bayes import ComplementNB\n",
        "from sklearn.metrics import cohen_kappa_score\n",
        "#Complement Naive Bayes classifier: particularly suited for imbalanced data sets\n",
        "#designed to correct the “severe assumptions” made by the standard Multinomial Naive Bayes classifier\n",
        "#In complement Naive Bayes, instead of calculating the probability of an item belonging to a certain class,\n",
        "#we calculate the probability of the item belonging to all the classes.\n",
        "Cmodel = ComplementNB()\n",
        "Cmodel.fit(x_train,y_train.ravel())\n",
        "train_pred_c=Cmodel.predict(x_train)\n",
        "test_pred_c=Cmodel.predict(x_test)\n",
        "import warnings\n",
        "warnings.filterwarnings('error')  # ignoring warning or not showing them more than once\n",
        "warnings.filterwarnings('ignore')\n",
        "nb_test(Cmodel,x_train,y_train)\n",
        "\n",
        "print(\"\\n accuracy: \",accuracy_score(y_test, test_pred_c))\n",
        "cm=confusion_matrix(y_test,test_pred_c)\n",
        "print(\"\\n Confusion Matrix: \")\n",
        "print(cm)\n",
        "sklearn.metrics.plot_confusion_matrix(Cmodel,x_test,y_test,cmap=plt.cm.Blues)\n",
        "print(classification_report(y_test, test_pred_c))\n",
        "#print(\"Cohen Kappa Score\",cohen_kappa_score(y_test, test_pred_c))\n"
      ],
      "metadata": {
        "id": "vGQg06d12JLj",
        "colab": {
          "base_uri": "https://localhost:8080/",
          "height": 993
        },
        "outputId": "f89b5075-a268-4b2a-a995-4856bd8330a0"
      },
      "execution_count": null,
      "outputs": [
        {
          "output_type": "stream",
          "name": "stdout",
          "text": [
            "\n",
            " parameters: \n",
            "{'alpha': 1.0, 'class_prior': None, 'fit_prior': True, 'norm': False}\n",
            "\n",
            " log-probability estimates: \n",
            "[[-1.11418918 -1.33731347 -1.54526799 -1.62956947]\n",
            " [-1.63905575 -1.70876671 -1.36127249 -0.9985498 ]\n",
            " [-1.07369575 -1.19051948 -1.55824205 -1.94011278]\n",
            " ...\n",
            " [-1.46242743 -1.4241048  -1.39388923 -1.27477287]\n",
            " [-1.27682413 -1.23344396 -1.44784978 -1.63621622]\n",
            " [-1.63770121 -1.69779268 -1.29786051 -1.0516214 ]]\n",
            "\n",
            " probability estimates: \n",
            "[[0.32818127 0.26255007 0.21325471 0.19601395]\n",
            " [0.19416329 0.18108899 0.25633439 0.36841333]\n",
            " [0.34174318 0.30406327 0.2105058  0.14368774]\n",
            " ...\n",
            " [0.23167322 0.24072386 0.24810847 0.27949444]\n",
            " [0.27892172 0.29128766 0.23507521 0.19471541]\n",
            " [0.19442647 0.18308721 0.2731155  0.34937082]]\n",
            "\n",
            " accuracy:  0.6358325219084713\n",
            "\n",
            " Confusion Matrix: \n",
            "[[784  11   0   0]\n",
            " [394 276  12 111]\n",
            " [ 20  51 126 519]\n",
            " [  0   0   4 773]]\n",
            "              precision    recall  f1-score   support\n",
            "\n",
            "           0       0.65      0.99      0.79       795\n",
            "           1       0.82      0.35      0.49       793\n",
            "           2       0.89      0.18      0.29       716\n",
            "           3       0.55      0.99      0.71       777\n",
            "\n",
            "    accuracy                           0.64      3081\n",
            "   macro avg       0.73      0.63      0.57      3081\n",
            "weighted avg       0.72      0.64      0.58      3081\n",
            "\n"
          ]
        },
        {
          "output_type": "display_data",
          "data": {
            "text/plain": [
              "<Figure size 432x288 with 2 Axes>"
            ],
            "image/png": "[encoded data removed]"
          },
          "metadata": {
            "needs_background": "light"
          }
        }
      ]
    }
  ]
}